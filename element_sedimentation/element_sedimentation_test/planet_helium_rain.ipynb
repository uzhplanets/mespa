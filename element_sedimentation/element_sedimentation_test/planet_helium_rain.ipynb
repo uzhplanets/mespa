{
 "cells": [
  {
   "cell_type": "code",
   "execution_count": null,
   "id": "a7be2623",
   "metadata": {},
   "outputs": [],
   "source": [
    "# this code requires the mesa_helper package\n",
    "# https://github.com/Henrik-Knierim/py_mesa_helper/\n",
    "# However, you can easily emulate it by placing the options below into an inlist and run it.\n",
    "import mesa_helper as mh\n",
    "\n",
    "with mh.Inlist(\"inlist_pgstar\") as inlist_pgstar:\n",
    "    # inlist_pgstar.set_option(\"Grid1_win_flag\", False)\n",
    "    inlist_pgstar.set_option(\"Summary_Profile_file_interval\", 1)\n",
    "    with mh.NumericalExperiment(\n",
    "        \"inlist_evolve\", \"rn_evolve\", verbose=False, debug=False\n",
    "    ) as numerical_experiment:\n",
    "\n",
    "        numerical_experiment.evolve(\n",
    "            do_restart=False,\n",
    "            # photo='x070',\n",
    "            # photo=None,\n",
    "            save_inlist=True,\n",
    "            max_years_for_timestep=1e7,\n",
    "            element_sedimentation_phase_diagram_temperature_shift=0.0,\n",
    "            element_sedimentation_maximum_dXi_per_cell=-1.0,\n",
    "            log_directory=\"LOGS/advection_diffusion_rain\",\n",
    "            element_sedimentation_method=\"advection_diffusion_rain\",\n",
    "            element_sedimentation_advection_diffusion_time_step_factor=1e-3,\n",
    "            element_sedimentation_velocity = 1e1, # 1e1\n",
    "            do_element_sedimentation=True,\n",
    "            mix_factor=0.0,\n",
    "            photo_interval = 1,\n",
    "            energy_eqn_option = 'eps_grav',\n",
    "            hard_limit_for_rel_error_in_energy_conservation = -1.0,\n",
    "        )"
   ]
  },
  {
   "cell_type": "markdown",
   "id": "9fe071f6",
   "metadata": {},
   "source": [
    "#### plot"
   ]
  },
  {
   "cell_type": "code",
   "execution_count": null,
   "id": "779f266c",
   "metadata": {},
   "outputs": [],
   "source": [
    "import matplotlib.pyplot as plt\n",
    "sims = mh.SimulationSeries('LOGS')\n",
    "sims.history_plot('star_age', 'radius_Jup', alpha=0.9, set_label=True, filter_x = lambda x: x>1e8)\n",
    "plt.legend()\n",
    "plt.axhline(1.0, color = 'gray')\n",
    "plt.show()"
   ]
  },
  {
   "cell_type": "code",
   "execution_count": null,
   "id": "f2cd0002",
   "metadata": {},
   "outputs": [],
   "source": [
    "sims = mh.SimulationSeries('LOGS')\n",
    "sims.profile_plot('mass_Jup', 'y', alpha=0.9, set_label=True)\n",
    "plt.legend()\n",
    "plt.axhline(1.0, color = 'gray')\n",
    "plt.show()"
   ]
  }
 ],
 "metadata": {
  "kernelspec": {
   "display_name": "PyToF",
   "language": "python",
   "name": "python3"
  },
  "language_info": {
   "codemirror_mode": {
    "name": "ipython",
    "version": 3
   },
   "file_extension": ".py",
   "mimetype": "text/x-python",
   "name": "python",
   "nbconvert_exporter": "python",
   "pygments_lexer": "ipython3",
   "version": "3.11.12"
  }
 },
 "nbformat": 4,
 "nbformat_minor": 5
}
