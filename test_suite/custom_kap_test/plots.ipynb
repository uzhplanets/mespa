{
 "cells": [
  {
   "cell_type": "code",
   "execution_count": null,
   "id": "1fba6e58",
   "metadata": {},
   "outputs": [],
   "source": [
    "import os\n",
    "\n",
    "import matplotlib.pyplot as plt\n",
    "import mesa_reader as mr\n",
    "\n",
    "R_jup = 6.991e9"
   ]
  },
  {
   "cell_type": "code",
   "execution_count": null,
   "id": "b91a5498",
   "metadata": {},
   "outputs": [],
   "source": [
    "src_dir = \"LOGS\"\n",
    "\n",
    "suffices = [\"\", \"_clouds\", \"_grains\", \"_window\", \"_delayed\"]\n",
    "fig, ax = plt.subplots(1, 1, figsize=(5, 4))\n",
    "for suffix in suffices:\n",
    "    fname = \"history_evolve\" + suffix + \".data\"\n",
    "    try:\n",
    "        md = mr.MesaData(os.path.join(src_dir, fname))\n",
    "    except FileNotFoundError:\n",
    "        continue\n",
    "    label = suffix.replace(\"_\", \"\")\n",
    "    ax.plot(md.star_age, md.radius_cm / R_jup, lw=3, label=label)\n",
    "ax.legend()\n",
    "ax.set_xlim(left=1e4, right=5e9)\n",
    "ax.set_xlabel(\"Planet age (years)\")\n",
    "ax.set_xscale(\"log\")    \n",
    "ax.set_ylabel(r\"Radius (R$_\\mathrm{J}$)\")\n",
    "fig.tight_layout()"
   ]
  },
  {
   "cell_type": "code",
   "execution_count": null,
   "id": "a48f5c21",
   "metadata": {},
   "outputs": [],
   "source": []
  }
 ],
 "metadata": {
  "kernelspec": {
   "display_name": "py313",
   "language": "python",
   "name": "python3"
  },
  "language_info": {
   "codemirror_mode": {
    "name": "ipython",
    "version": 3
   },
   "file_extension": ".py",
   "mimetype": "text/x-python",
   "name": "python",
   "nbconvert_exporter": "python",
   "pygments_lexer": "ipython3",
   "version": "3.13.5"
  }
 },
 "nbformat": 4,
 "nbformat_minor": 5
}
