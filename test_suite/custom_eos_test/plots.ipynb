{
 "cells": [
  {
   "cell_type": "code",
   "execution_count": null,
   "id": "1fba6e58",
   "metadata": {},
   "outputs": [],
   "source": [
    "import os\n",
    "\n",
    "import matplotlib.pyplot as plt\n",
    "import mesa_reader as mr\n",
    "\n",
    "R_jup = 6.991e9"
   ]
  },
  {
   "cell_type": "code",
   "execution_count": null,
   "id": "b91a5498",
   "metadata": {},
   "outputs": [],
   "source": [
    "src_dir = \"LOGS\"\n",
    "fname = \"history_evolve_z1.data\"\n",
    "md = mr.MesaData(os.path.join(src_dir, fname))\n",
    "fig, ax = plt.subplots(1, 1, figsize=(5, 4))\n",
    "ax.plot(md.star_age, md.radius_cm / R_jup, lw=3, label=\"Z = 0.1\")\n",
    "\n",
    "fname = \"history_evolve_z2.data\"\n",
    "md = mr.MesaData(os.path.join(src_dir, fname))\n",
    "ax.plot(md.star_age, md.radius_cm / R_jup, lw=3, label=\"Z = 0.2\")\n",
    "\n",
    "ax.legend()\n",
    "ax.set_xscale(\"log\")\n",
    "ax.set_xlim(left=1e3, right=5e9)\n",
    "ax.set_xlabel(\"Planet age (years)\")\n",
    "ax.set_ylabel(r\"Radius (R$_\\mathrm{J}$)\")\n"
   ]
  },
  {
   "cell_type": "code",
   "execution_count": null,
   "id": "76fa394f",
   "metadata": {},
   "outputs": [],
   "source": [
    "md_create = mr.MesaData(\"profile_create.data\")\n",
    "md_evolve_z1 = mr.MesaData(\"profile_evolve_z1.data\")\n",
    "md_evolve_z2 = mr.MesaData(\"profile_evolve_z2.data\")\n",
    "\n",
    "fig, ax = plt.subplots(1, 1, figsize=(5, 4))\n",
    "ax.plot(md_evolve_z1.logRho, md_evolve_z1.logT, lw=3)\n",
    "ax.plot(md_evolve_z2.logRho, md_evolve_z2.logT, lw=3)\n",
    "ax.plot(md_create.logRho, md_create.logT, lw=3, ls=\"--\")\n",
    "\n",
    "ax.set_xlim(left=-6, right=0.7)\n",
    "ax.set_ylim(bottom=2.75, top=4.5)\n",
    "ax.set_xlabel(r\"log $\\rho$ (g/cc)\")\n",
    "ax.set_ylabel(r\"log $T$ (K)\")"
   ]
  },
  {
   "cell_type": "code",
   "execution_count": null,
   "id": "350bce98",
   "metadata": {},
   "outputs": [],
   "source": []
  }
 ],
 "metadata": {
  "kernelspec": {
   "display_name": "py313",
   "language": "python",
   "name": "python3"
  },
  "language_info": {
   "codemirror_mode": {
    "name": "ipython",
    "version": 3
   },
   "file_extension": ".py",
   "mimetype": "text/x-python",
   "name": "python",
   "nbconvert_exporter": "python",
   "pygments_lexer": "ipython3",
   "version": "3.13.5"
  }
 },
 "nbformat": 4,
 "nbformat_minor": 5
}
